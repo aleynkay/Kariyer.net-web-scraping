{
 "cells": [
  {
   "cell_type": "code",
   "execution_count": 1,
   "metadata": {},
   "outputs": [],
   "source": [
    "import requests\n",
    "from bs4 import BeautifulSoup\n",
    "import pandas as pd"
   ]
  },
  {
   "cell_type": "code",
   "execution_count": null,
   "metadata": {},
   "outputs": [],
   "source": [
    "def main():\n",
    "    ilce_listesi = {\n",
    "        \"5785\": \"Arnavutköy\", \"434\": \"Avcılar\", \"437\": \"Bağcılar\", \"438\": \"Bahçelievler\",\n",
    "        \"435\": \"Bakırköy\", \"5786\": \"Başakşehir\", \"436\": \"Bayrampaşa\", \"439\": \"Beşiktaş\",\n",
    "        \"1077\": \"Beylikdüzü\", \"440\": \"Beyoğlu\", \"441\": \"Büyükçekmece\", \"442\": \"Çatalca\",\n",
    "        \"445\": \"Eminönü\", \"443\": \"Esenler\", \"5787\": \"Esenyurt\", \"444\": \"Eyüp\", \"446\": \"Fatih\",\n",
    "        \"447\": \"Gaziosmanpaşa\", \"448\": \"Güngören\", \"449\": \"Kağıthane\", \"450\": \"Küçükçekmece\",\n",
    "        \"5677\": \"MimarSinan/Büyükçekmece\", \"451\": \"Sarıyer\", \"452\": \"Silivri\", \"5765\": \"Sultangazi\",\n",
    "        \"453\": \"Şişli\", \"454\": \"Zeytinburnu\", \"455\": \"Adalar\", \"1722\": \"Ataşehir\", \"456\": \"Beykoz\",\n",
    "        \"1244\": \"Çekmeköy\", \"457\": \"Kadıköy\", \"458\": \"Kartal\", \"459\": \"Maltepe\", \"460\": \"Pendik\",\n",
    "        \"5788\": \"Sancaktepe\", \"461\": \"Sultanbeyli\", \"462\": \"Şile\", \"463\": \"Tuzla\", \"464\": \"Ümraniye\",\n",
    "        \"465\": \"Üsküdar\"\n",
    "    }\n",
    "    sektor_listesi = {\n",
    "        \"001000000\": \"Bilişim\", \"002000000\": \"Üretim/Endüstriyel Ürün\", \"003000000\" : \"Elektrik&Elektronik\",\n",
    "        \"004000000\": \"Güvenlik\", \"005000000\": \"Enerji\", \"006000000\": \"Gıda\", \"007000000\": \"Kimya\",\n",
    "        \"008000000\": \"Maden ve Metal Sanayi\", \"009000000\": \"Mobilya & Aksesuar\", \"0010000000\": \"Ev Eşyaları\",\n",
    "        \"011000000\": \"Orman Ürünleri\", \"012000000\": \"Ofis/Büro Malzemeleri\", \"013000000\": \"Otomotiv\",\n",
    "        \"014000000\": \"Sağlık\", \"015000000\": \"Tarım/Ziraat\", \"016000000\": \"Taşımacılık\", \"017000000\": \"Tekstil\",\n",
    "        \"018000000\": \"Telekomünikasyon\", \"019000000\": \"Turizm\", \"020000000\": \"Yapı\", \"021000000\": \"Topluluklar\",\n",
    "        \"022000000\": \"Hizmet\", \"023000000\": \"Danışmanlık\", \"024000000\": \"Reklam ve Tanıtım\", \"025000000\": \"Eğitim\",\n",
    "        \"026000000\": \"Finans-Ekonomi\", \"027000000\": \"Ticaret\", \"028000000\": \"Denizcilik\", \"029000000\": \"Eğlence-kültür-sanat\", \n",
    "        \"030000000\": \"Basım-yayın\", \"031000000\": \"Medya\", \"032000000\": \"Havacılık\", \"033000000\": \"Hızlı Tüketim Malları\",\n",
    "        \"034000000\": \"Hayvancılık\", \"035000000\": \"Sigortacılık\", \"036000000\": \"Dayanıklı Tüketim Ürünleri\", \"037000000\": \"Atık yönetimi ve Geri dönüştürme\", \n",
    "        \"038000000\": \"Arşiv yönetimi saklama\", \"039000000\": \"Perakende\", \"040000000\": \"Çevre\", \"041000000\": \"İletişim Danışmanlığı\",\n",
    "        \"042000000\": \"Kaynak ve kesme ekipmanları\", \"043000000\": \"Gemi Yan Sanayi\", \"044000000\": \"Bina ve site yönetimi\",\n",
    "        \"045000000\": \"Sondaj\", \"10100000\": \"Bilgi ve Teknolojileri\", \"10200000\": \"Dental\", \"10300000\": \"Organizasyon\", \n",
    "        \"10400000\": \"Otoyol tünel ve köprü\", \"999000000\": \"Diğer \"\n",
    "    }\n",
    "\n",
    "    data = []\n",
    "    for ilce_kodu, ilce_adi in ilce_listesi.items():\n",
    "        for sektor_kodu, sektor_adi in sektor_listesi.items():\n",
    "            URL = f\"https://www.kariyer.net/is-ilanlari/{ilce_adi}-is-ilanlari?ct=34,82&tt={ilce_kodu}&cs={sektor_kodu}&date=15g\"\n",
    "            headers = {\"User-Agent\":\"Mozilla/5.0 (Windows NT 10.0; Win64; x64) AppleWebKit/537.36 (KHTML, like Gecko) Chrome/126.0.0.0 Safari/537.36\"}\n",
    "            sayfa = requests.get(URL, headers = headers)\n",
    "            icerik = BeautifulSoup(sayfa.content, 'html.parser')\n",
    "            ilan_sayisi_elementi = icerik.select_one(\"div.t-6.text-secondary.mb-3.search-result-section\")\n",
    "            if ilan_sayisi_elementi:\n",
    "                ilan_sayisi_text = ilan_sayisi_elementi.get_text(strip=True) \n",
    "                ilan_sayisi = ''.join(filter(str.isdigit, ilan_sayisi_text))\n",
    "                if ilan_sayisi == '':\n",
    "                    ilan_sayisi = \"Bulunamadı\"\n",
    "            print(f\"İlçe İsmi: {ilce_adi}\")\n",
    "            print(f\"Sektör İsmi: {sektor_adi}\")\n",
    "            print(f\"İlan Sayısı: {ilan_sayisi}\")\n",
    "            print()\n",
    "            data.append({\"İlçe İsmi\": ilce_adi, \"Sektör İsmi\": sektor_adi, \"İlan Sayısı\": ilan_sayisi})\n",
    "    df = pd.DataFrame(data)\n",
    "    df.to_excel(\"ilan_sayilari.xlsx\", index=False)\n",
    "\n",
    "            \n",
    "if __name__ == \"__main__\":\n",
    "    main()\n"
   ]
  }
 ],
 "metadata": {
  "kernelspec": {
   "display_name": "Python 3",
   "language": "python",
   "name": "python3"
  },
  "language_info": {
   "codemirror_mode": {
    "name": "ipython",
    "version": 3
   },
   "file_extension": ".py",
   "mimetype": "text/x-python",
   "name": "python",
   "nbconvert_exporter": "python",
   "pygments_lexer": "ipython3",
   "version": "3.12.4"
  }
 },
 "nbformat": 4,
 "nbformat_minor": 2
}
